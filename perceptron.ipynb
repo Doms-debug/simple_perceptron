{
  "nbformat": 4,
  "nbformat_minor": 0,
  "metadata": {
    "colab": {
      "provenance": [],
      "toc_visible": true
    },
    "kernelspec": {
      "name": "python3",
      "display_name": "Python 3"
    },
    "language_info": {
      "name": "python"
    }
  },
  "cells": [
    {
      "cell_type": "code",
      "source": [
        "import numpy as np\n",
        "\n",
        "x = [[1,0,0],[1,0,1],[1,1,0],[1,1,1]]\n",
        "d = [0,0,0,1]\n",
        "w = [0.5, 0, 1]\n",
        "epoch = 6\n",
        "learning_rate = 1\n",
        "\n",
        "for e in range(epoch):\n",
        "  print(f\"epoch: {e+1}\")\n",
        "  for i in range(len(x)):\n",
        "    v = np.dot(x[i], w)\n",
        "    print(f\"v: {v}\")\n",
        "    if v > 0:\n",
        "      y = 1\n",
        "    else:\n",
        "      y = 0\n",
        "    d_minus_y = d[i] - y\n",
        "    print(f\"d-y: {d_minus_y}\")\n",
        "    w = w + learning_rate * np.multiply(d_minus_y, x[i])\n",
        "    print(f\"w: {w}\")\n",
        "  print(\"\\n\")"
      ],
      "metadata": {
        "colab": {
          "base_uri": "https://localhost:8080/"
        },
        "id": "zgdqQeR3koIv",
        "outputId": "5b5ebbcf-9a92-449c-cc0e-57f7eba6ddc1"
      },
      "execution_count": null,
      "outputs": [
        {
          "output_type": "stream",
          "name": "stdout",
          "text": [
            "epoch: 1\n",
            "v: 0.5\n",
            "d-y: -1\n",
            "w: [-0.5  0.   1. ]\n",
            "v: 0.5\n",
            "d-y: -1\n",
            "w: [-1.5  0.   0. ]\n",
            "v: -1.5\n",
            "d-y: 0\n",
            "w: [-1.5  0.   0. ]\n",
            "v: -1.5\n",
            "d-y: 1\n",
            "w: [-0.5  1.   1. ]\n",
            "\n",
            "\n",
            "epoch: 2\n",
            "v: -0.5\n",
            "d-y: 0\n",
            "w: [-0.5  1.   1. ]\n",
            "v: 0.5\n",
            "d-y: -1\n",
            "w: [-1.5  1.   0. ]\n",
            "v: -0.5\n",
            "d-y: 0\n",
            "w: [-1.5  1.   0. ]\n",
            "v: -0.5\n",
            "d-y: 1\n",
            "w: [-0.5  2.   1. ]\n",
            "\n",
            "\n",
            "epoch: 3\n",
            "v: -0.5\n",
            "d-y: 0\n",
            "w: [-0.5  2.   1. ]\n",
            "v: 0.5\n",
            "d-y: -1\n",
            "w: [-1.5  2.   0. ]\n",
            "v: 0.5\n",
            "d-y: -1\n",
            "w: [-2.5  1.   0. ]\n",
            "v: -1.5\n",
            "d-y: 1\n",
            "w: [-1.5  2.   1. ]\n",
            "\n",
            "\n",
            "epoch: 4\n",
            "v: -1.5\n",
            "d-y: 0\n",
            "w: [-1.5  2.   1. ]\n",
            "v: -0.5\n",
            "d-y: 0\n",
            "w: [-1.5  2.   1. ]\n",
            "v: 0.5\n",
            "d-y: -1\n",
            "w: [-2.5  1.   1. ]\n",
            "v: -0.5\n",
            "d-y: 1\n",
            "w: [-1.5  2.   2. ]\n",
            "\n",
            "\n",
            "epoch: 5\n",
            "v: -1.5\n",
            "d-y: 0\n",
            "w: [-1.5  2.   2. ]\n",
            "v: 0.5\n",
            "d-y: -1\n",
            "w: [-2.5  2.   1. ]\n",
            "v: -0.5\n",
            "d-y: 0\n",
            "w: [-2.5  2.   1. ]\n",
            "v: 0.5\n",
            "d-y: 0\n",
            "w: [-2.5  2.   1. ]\n",
            "\n",
            "\n",
            "epoch: 6\n",
            "v: -2.5\n",
            "d-y: 0\n",
            "w: [-2.5  2.   1. ]\n",
            "v: -1.5\n",
            "d-y: 0\n",
            "w: [-2.5  2.   1. ]\n",
            "v: -0.5\n",
            "d-y: 0\n",
            "w: [-2.5  2.   1. ]\n",
            "v: 0.5\n",
            "d-y: 0\n",
            "w: [-2.5  2.   1. ]\n",
            "\n",
            "\n"
          ]
        }
      ]
    },
    {
      "cell_type": "markdown",
      "source": [
        "# Nowa sekcja"
      ],
      "metadata": {
        "id": "-v34oT3juRAT"
      }
    },
    {
      "cell_type": "code",
      "source": [],
      "metadata": {
        "id": "pr16j39btoRw"
      },
      "execution_count": null,
      "outputs": []
    }
  ]
}